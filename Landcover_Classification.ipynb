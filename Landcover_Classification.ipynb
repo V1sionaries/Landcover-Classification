{
 "cells": [
  {
   "cell_type": "markdown",
   "metadata": {},
   "source": [
    "# Landcover Classificaiton\n",
    "\n",
    "## Authored by: Blake Marshall, Sean Farmer, Jacob Sellers, & Isauro Ramos\n",
    "\n",
    "The Landcover Classification project aims to... <CONTINUE DESCRIPTION>"
   ]
  },
  {
   "cell_type": "code",
   "execution_count": null,
   "metadata": {
    "vscode": {
     "languageId": "plaintext"
    }
   },
   "outputs": [],
   "source": [
    "# BEGIN CODE"
   ]
  },
  {
   "cell_type": "code",
   "execution_count": null,
   "metadata": {
    "vscode": {
     "languageId": "plaintext"
    }
   },
   "outputs": [],
   "source": []
  }
 ],
 "metadata": {
  "language_info": {
   "name": "python"
  }
 },
 "nbformat": 4,
 "nbformat_minor": 2
}
